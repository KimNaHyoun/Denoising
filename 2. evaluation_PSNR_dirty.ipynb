{
 "cells": [
  {
   "cell_type": "code",
   "execution_count": 1,
   "metadata": {},
   "outputs": [
    {
     "name": "stderr",
     "output_type": "stream",
     "text": [
      "D:\\Anaconda3\\envs\\kimna\\lib\\site-packages\\numpy\\_distributor_init.py:32: UserWarning: loaded more than 1 DLL from .libs:\n",
      "D:\\Anaconda3\\envs\\kimna\\lib\\site-packages\\numpy\\.libs\\libopenblas.GK7GX5KEQ4F6UYO3P26ULGBQYHGQO7J4.gfortran-win_amd64.dll\n",
      "D:\\Anaconda3\\envs\\kimna\\lib\\site-packages\\numpy\\.libs\\libopenblas.PYQHXLVVQ7VESDPUVUADXEVJOBGHJPAY.gfortran-win_amd64.dll\n",
      "D:\\Anaconda3\\envs\\kimna\\lib\\site-packages\\numpy\\.libs\\libopenblas.WCDJNK7YVMPZQ2ME2ZZHJJRJ3JIKNDB7.gfortran-win_amd64.dll\n",
      "D:\\Anaconda3\\envs\\kimna\\lib\\site-packages\\numpy\\.libs\\libopenblas.XWYDX2IKJW2NMTWSFYNGFUWKQU3LYTCZ.gfortran-win_amd64.dll\n",
      "  stacklevel=1)\n"
     ]
    }
   ],
   "source": [
    "import os \n",
    "import cv2\n",
    "import numpy as np\n",
    "from tqdm import tqdm\n",
    "import glob\n",
    "import natsort\n",
    "import matplotlib.pyplot as plt\n",
    "import tensorflow as tf\n",
    "%matplotlib inline"
   ]
  },
  {
   "cell_type": "markdown",
   "metadata": {},
   "source": [
    "### noisy image load"
   ]
  },
  {
   "cell_type": "code",
   "execution_count": 17,
   "metadata": {},
   "outputs": [],
   "source": [
    "path1 = 'D:/Jupyter/kimna/yolo (2)/2. yolo_v5/data/x_ray/images/test_REALESRGAN/'\n",
    "temp = natsort.natsorted(os.listdir(path1))"
   ]
  },
  {
   "cell_type": "code",
   "execution_count": 18,
   "metadata": {},
   "outputs": [],
   "source": [
    "files = []\n",
    "for i in range(50):\n",
    "    files.append(path1 + temp[i])"
   ]
  },
  {
   "cell_type": "code",
   "execution_count": 19,
   "metadata": {},
   "outputs": [
    {
     "name": "stderr",
     "output_type": "stream",
     "text": [
      "100%|██████████████████████████████████████████████████████████████████████████████████| 50/50 [00:01<00:00, 31.31it/s]\n"
     ]
    }
   ],
   "source": [
    "images1 = []\n",
    "for fl in tqdm(files):\n",
    "    try:\n",
    "        image = cv2.imread(fl, cv2.IMREAD_COLOR)\n",
    "        images1.append(image)\n",
    "    except:\n",
    "        break\n",
    "generate = np.array(images1)"
   ]
  },
  {
   "cell_type": "code",
   "execution_count": 20,
   "metadata": {},
   "outputs": [
    {
     "data": {
      "text/plain": [
       "(1080, 1920, 3)"
      ]
     },
     "execution_count": 20,
     "metadata": {},
     "output_type": "execute_result"
    }
   ],
   "source": [
    "images1[1].shape"
   ]
  },
  {
   "cell_type": "markdown",
   "metadata": {},
   "source": [
    "### clean image load"
   ]
  },
  {
   "cell_type": "code",
   "execution_count": 6,
   "metadata": {},
   "outputs": [],
   "source": [
    "path2 = 'D:/Jupyter/kimna/yolo (2)/2. yolo_v5/data/x_ray/images/test_orginal_500/'\n",
    "temp2 = natsort.natsorted(os.listdir(path2))"
   ]
  },
  {
   "cell_type": "code",
   "execution_count": 7,
   "metadata": {},
   "outputs": [],
   "source": [
    "files_2 = []\n",
    "for i in range(50):\n",
    "    files_2.append(path2 + temp2[i])"
   ]
  },
  {
   "cell_type": "code",
   "execution_count": 8,
   "metadata": {},
   "outputs": [
    {
     "name": "stderr",
     "output_type": "stream",
     "text": [
      "100%|██████████████████████████████████████████████████████████████████████████████████| 50/50 [00:02<00:00, 20.82it/s]\n"
     ]
    }
   ],
   "source": [
    "images = []\n",
    "for fl in tqdm(files_2):\n",
    "    try:\n",
    "        image = cv2.imread(fl, cv2.IMREAD_COLOR)\n",
    "        images.append(image)\n",
    "    except:\n",
    "        break\n",
    "clean = np.array(images)"
   ]
  },
  {
   "cell_type": "code",
   "execution_count": 9,
   "metadata": {},
   "outputs": [
    {
     "data": {
      "text/plain": [
       "(1080, 1920, 3)"
      ]
     },
     "execution_count": 9,
     "metadata": {},
     "output_type": "execute_result"
    }
   ],
   "source": [
    "images[1].shape"
   ]
  },
  {
   "cell_type": "code",
   "execution_count": null,
   "metadata": {},
   "outputs": [],
   "source": [
    "for i in range(0,len(clean)):\n",
    "    \n",
    "    fig=plt.figure(figsize=(15, 5))\n",
    "    \n",
    "    ax = plt.subplot(131)\n",
    "    plt.imshow(clean[i])\n",
    "    \n",
    "    ax = plt.subplot(132)\n",
    "    plt.imshow(generate[i])\n",
    "    plt.show()"
   ]
  },
  {
   "cell_type": "code",
   "execution_count": 10,
   "metadata": {
    "scrolled": true
   },
   "outputs": [],
   "source": [
    "y_true_list = []\n",
    "for i in range(50):\n",
    "    y_true = tf.image.convert_image_dtype(clean[i], tf.float32)\n",
    "    y_true_list.append(y_true)"
   ]
  },
  {
   "cell_type": "code",
   "execution_count": 11,
   "metadata": {},
   "outputs": [],
   "source": [
    "y_pred_list2 = []\n",
    "for i in range(50):\n",
    "    y_pred = tf.image.convert_image_dtype(generate[i], tf.float32)\n",
    "    y_pred_list2.append(y_pred)"
   ]
  },
  {
   "cell_type": "markdown",
   "metadata": {},
   "source": [
    "## PSNR"
   ]
  },
  {
   "cell_type": "code",
   "execution_count": 21,
   "metadata": {},
   "outputs": [],
   "source": [
    "y_pred_list = []\n",
    "for i in range(50):\n",
    "    y_pred = tf.image.convert_image_dtype(generate[i], tf.float32)\n",
    "    y_pred_list.append(y_pred)"
   ]
  },
  {
   "cell_type": "code",
   "execution_count": 22,
   "metadata": {
    "scrolled": true
   },
   "outputs": [],
   "source": [
    "#PSNR\n",
    "psnr_list = []\n",
    "for i in range(50):\n",
    "    try:\n",
    "        psnr_ouput = tf.image.psnr(y_true_list[i], y_pred_list[i], max_val=1.0)\n",
    "        psnr_list.append(psnr_ouput)\n",
    "    except:\n",
    "        break"
   ]
  },
  {
   "cell_type": "code",
   "execution_count": 23,
   "metadata": {
    "scrolled": true
   },
   "outputs": [
    {
     "data": {
      "text/plain": [
       "50"
      ]
     },
     "execution_count": 23,
     "metadata": {},
     "output_type": "execute_result"
    }
   ],
   "source": [
    "len(psnr_list)"
   ]
  },
  {
   "cell_type": "code",
   "execution_count": 24,
   "metadata": {},
   "outputs": [],
   "source": [
    "psnr_list = np.array(psnr_list)"
   ]
  },
  {
   "cell_type": "code",
   "execution_count": 25,
   "metadata": {},
   "outputs": [
    {
     "data": {
      "text/plain": [
       "numpy.ndarray"
      ]
     },
     "execution_count": 25,
     "metadata": {},
     "output_type": "execute_result"
    }
   ],
   "source": [
    "type(psnr_list)"
   ]
  },
  {
   "cell_type": "code",
   "execution_count": 26,
   "metadata": {},
   "outputs": [],
   "source": [
    "filePath = 'D:/Jupyter/kimna/5. project1/RESRGAN_PSNR.txt'\n",
    "\n",
    "with open(filePath, 'w') as lf:\n",
    "    for i in range(len(psnr_list)):\n",
    "        lf.write(str(psnr_list[i]))\n",
    "        lf.write('\\n')"
   ]
  },
  {
   "cell_type": "markdown",
   "metadata": {},
   "source": [
    "# SSIM"
   ]
  },
  {
   "cell_type": "code",
   "execution_count": 27,
   "metadata": {},
   "outputs": [],
   "source": [
    "#SSIM\n",
    "ssim_list = []\n",
    "for i in range(len(y_true_list)):\n",
    "    ssim_ouput = tf.image.ssim(y_true_list[i], y_pred_list[i], max_val=1.0)\n",
    "    ssim_list.append(ssim_ouput)"
   ]
  },
  {
   "cell_type": "code",
   "execution_count": 28,
   "metadata": {},
   "outputs": [],
   "source": [
    "ssim_list = np.array(ssim_list)"
   ]
  },
  {
   "cell_type": "code",
   "execution_count": 29,
   "metadata": {},
   "outputs": [],
   "source": [
    "#SSIM\n",
    "filePath = 'D:/Jupyter/kimna/5. project1/RESRGAN_SSIM.txt'\n",
    "\n",
    "with open(filePath, 'w') as lf:\n",
    "    for i in range(len(ssim_list)):\n",
    "        lf.write(str(ssim_list[i]))\n",
    "        lf.write('\\n')"
   ]
  },
  {
   "cell_type": "markdown",
   "metadata": {},
   "source": [
    "### 평가"
   ]
  },
  {
   "cell_type": "code",
   "execution_count": null,
   "metadata": {},
   "outputs": [],
   "source": [
    "clean = clean*255\n",
    "generate = generate*255\n",
    "\n",
    "#ref_mat=patch\n",
    "#res_mat=mask\n",
    "#print(ref_mat.shape)\n",
    "#print(res_mat.shape)"
   ]
  },
  {
   "cell_type": "code",
   "execution_count": null,
   "metadata": {
    "scrolled": true
   },
   "outputs": [],
   "source": [
    "def output_psnr_mse(img_orig, img_out):\n",
    "    squared_error = np.square(img_orig - img_out)\n",
    "    mse = np.mean(squared_error)\n",
    "    psnr = 10 * np.log10(1.0 / mse)\n",
    "    return psnr"
   ]
  },
  {
   "cell_type": "code",
   "execution_count": null,
   "metadata": {},
   "outputs": [],
   "source": [
    "psnr_output = []\n",
    "for i in range(len(clean)):\n",
    "    output = output_psnr_mse(clean[i], generate[i])\n",
    "    psnr_output.append(output)"
   ]
  },
  {
   "cell_type": "code",
   "execution_count": null,
   "metadata": {},
   "outputs": [],
   "source": [
    "psnr_output"
   ]
  },
  {
   "cell_type": "code",
   "execution_count": null,
   "metadata": {},
   "outputs": [],
   "source": [
    "ref_mat = ref_mat.astype('float') / 255.0\n",
    "res_mat = res_mat.astype('float') / 255.0\n",
    "\n",
    "def mean_psnr_srgb(ref_mat, res_mat):\n",
    "    n_blk, h, w, c = ref_mat.shape\n",
    "    mean_psnr = 0\n",
    "    for b in range(n_blk):\n",
    "        ref_block = ref_mat[b, :, :, :]\n",
    "        res_block = res_mat[b, :, :, :]\n",
    "        ref_block = np.reshape(ref_block, (h, w, c))\n",
    "        res_block = np.reshape(res_block, (h, w, c))\n",
    "        psnr = output_psnr_mse(ref_block, res_block)\n",
    "        mean_psnr += psnr\n",
    "    return mean_psnr / n_blk\n",
    "\n",
    "#PSNR\n",
    "mean_psnr = mean_psnr_srgb(ref_mat, res_mat)\n",
    "print('mean_psnr:')\n",
    "print(mean_psnr)"
   ]
  },
  {
   "cell_type": "code",
   "execution_count": null,
   "metadata": {},
   "outputs": [],
   "source": [
    "from skimage.metrics import structural_similarity as ssim\n",
    "\n",
    "def mean_ssim_srgb(ref_mat, res_mat):\n",
    "    n_blk, h, w, c = ref_mat.shape\n",
    "    mean_ssim = 0\n",
    "    for b in range(n_blk):\n",
    "        ref_block = ref_mat[b, :, :, :]\n",
    "        res_block = res_mat[b, :, :, :]\n",
    "        ref_block = np.reshape(ref_block, (h, w, c))\n",
    "        res_block = np.reshape(res_block, (h, w, c))\n",
    "        ssim1 = ssim(ref_block, res_block, gaussian_weights=True, use_sample_covariance=False,\n",
    "                     multichannel=True)\n",
    "        mean_ssim += ssim1\n",
    "    return mean_ssim / n_blk\n",
    "\n",
    "# SSIM\n",
    "mean_ssim = mean_ssim_srgb(ref_mat, res_mat)\n",
    "print('mean_ssim:')\n",
    "print(mean_ssim)"
   ]
  },
  {
   "cell_type": "code",
   "execution_count": null,
   "metadata": {},
   "outputs": [],
   "source": []
  },
  {
   "cell_type": "code",
   "execution_count": null,
   "metadata": {},
   "outputs": [],
   "source": [
    "import shutil"
   ]
  },
  {
   "cell_type": "markdown",
   "metadata": {},
   "source": [
    "### Haze"
   ]
  },
  {
   "cell_type": "code",
   "execution_count": null,
   "metadata": {},
   "outputs": [],
   "source": [
    "HAZE_BEST_LIST = []\n",
    "\n",
    "HAZE_BEST_LIST_path = 'D:/Jupyter/Nahyoun/1. denoise/data/2. inference/HAZE_BEST_SSIM.txt'\n",
    "\n",
    "f = open(HAZE_BEST_LIST_path, 'r')\n",
    "for i in range(704):\n",
    "    line = f.readline()\n",
    "    HAZE_BEST_LIST.append(line.replace(\"\\n\",\"\"))"
   ]
  },
  {
   "cell_type": "code",
   "execution_count": null,
   "metadata": {},
   "outputs": [],
   "source": [
    "from_path = 'D:/Jupyter/Nahyoun/1. denoise/data/2. inference/3. inference_denosie/14. inference_denoise_haze_l/'\n",
    "to_path = 'D:/Jupyter/Nahyoun/1. denoise/data/2. inference/3. inference_denosie/21. best_haze_ssim/'"
   ]
  },
  {
   "cell_type": "code",
   "execution_count": null,
   "metadata": {},
   "outputs": [],
   "source": [
    "for i in range(704):\n",
    "    num = HAZE_BEST_LIST[i]\n",
    "    from_image_path = from_path+num+'.jpg'\n",
    "    to_image_path = to_path+num+'.jpg'\n",
    "    shutil.copyfile(from_image_path, to_image_path)"
   ]
  },
  {
   "cell_type": "markdown",
   "metadata": {},
   "source": [
    "### Light"
   ]
  },
  {
   "cell_type": "code",
   "execution_count": null,
   "metadata": {},
   "outputs": [],
   "source": [
    "LIGHT_BEST_LIST = []\n",
    "\n",
    "LIGHT_BEST_PATH = 'D:/Jupyter/Nahyoun/1. denoise/data/2. inference/LIGHT_BEST_SSIM.txt'\n",
    "\n",
    "f = open(LIGHT_BEST_PATH, 'r')\n",
    "for i in range(371):\n",
    "    line = f.readline()\n",
    "    LIGHT_BEST_LIST.append(line.replace(\"\\n\",\"\"))"
   ]
  },
  {
   "cell_type": "code",
   "execution_count": null,
   "metadata": {},
   "outputs": [],
   "source": [
    "LIGHT_BEST_LIST[0]"
   ]
  },
  {
   "cell_type": "code",
   "execution_count": null,
   "metadata": {
    "scrolled": true
   },
   "outputs": [],
   "source": [
    "len(LIGHT_BEST_LIST)"
   ]
  },
  {
   "cell_type": "code",
   "execution_count": null,
   "metadata": {},
   "outputs": [],
   "source": [
    "from_path = 'D:/Jupyter/Nahyoun/1. denoise/data/2. inference/3. inference_denosie/15. inference_denoise_light_l/'\n",
    "to_path = 'D:/Jupyter/Nahyoun/1. denoise/data/2. inference/3. inference_denosie/22. best_light_ssim/'\n",
    "    \n",
    "for i in range(371):\n",
    "    num = LIGHT_BEST_LIST[i]\n",
    "    from_image_path = from_path+num+'.jpg'\n",
    "    to_image_path = to_path+num+'.jpg'\n",
    "    shutil.copyfile(from_image_path, to_image_path)"
   ]
  },
  {
   "cell_type": "markdown",
   "metadata": {},
   "source": [
    "### dark"
   ]
  },
  {
   "cell_type": "code",
   "execution_count": null,
   "metadata": {},
   "outputs": [],
   "source": [
    "DARK_BEST_LIST = []\n",
    "\n",
    "DARK_BEST_PATH = 'D:/Jupyter/Nahyoun/1. denoise/data/2. inference/DARK_BEST_SSIM.txt'\n",
    "\n",
    "f = open(DARK_BEST_PATH, 'r')\n",
    "for i in range(114):\n",
    "    line = f.readline()\n",
    "    DARK_BEST_LIST.append(line.replace(\"\\n\",\"\"))"
   ]
  },
  {
   "cell_type": "code",
   "execution_count": null,
   "metadata": {},
   "outputs": [],
   "source": [
    "from_path = 'D:/Jupyter/Nahyoun/1. denoise/data/2. inference/3. inference_denosie/13. inference_denoise_dark_l/'\n",
    "to_path = 'D:/Jupyter/Nahyoun/1. denoise/data/2. inference/3. inference_denosie/20. best_dark_ssim/'\n",
    "    \n",
    "for i in range(114):\n",
    "    num = DARK_BEST_LIST[i]\n",
    "    from_image_path = from_path+num+'.jpg'\n",
    "    to_image_path = to_path+num+'.jpg'\n",
    "    shutil.copyfile(from_image_path, to_image_path)"
   ]
  },
  {
   "cell_type": "code",
   "execution_count": null,
   "metadata": {},
   "outputs": [],
   "source": []
  }
 ],
 "metadata": {
  "kernelspec": {
   "display_name": "Python 3",
   "language": "python",
   "name": "python3"
  },
  "language_info": {
   "codemirror_mode": {
    "name": "ipython",
    "version": 3
   },
   "file_extension": ".py",
   "mimetype": "text/x-python",
   "name": "python",
   "nbconvert_exporter": "python",
   "pygments_lexer": "ipython3",
   "version": "3.6.12"
  }
 },
 "nbformat": 4,
 "nbformat_minor": 5
}
