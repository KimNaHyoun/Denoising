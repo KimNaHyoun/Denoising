{
 "cells": [
  {
   "cell_type": "code",
   "execution_count": 1,
   "id": "f887e14f",
   "metadata": {},
   "outputs": [
    {
     "name": "stderr",
     "output_type": "stream",
     "text": [
      "D:\\Anaconda3\\envs\\kimna\\lib\\site-packages\\numpy\\_distributor_init.py:32: UserWarning: loaded more than 1 DLL from .libs:\n",
      "D:\\Anaconda3\\envs\\kimna\\lib\\site-packages\\numpy\\.libs\\libopenblas.GK7GX5KEQ4F6UYO3P26ULGBQYHGQO7J4.gfortran-win_amd64.dll\n",
      "D:\\Anaconda3\\envs\\kimna\\lib\\site-packages\\numpy\\.libs\\libopenblas.PYQHXLVVQ7VESDPUVUADXEVJOBGHJPAY.gfortran-win_amd64.dll\n",
      "D:\\Anaconda3\\envs\\kimna\\lib\\site-packages\\numpy\\.libs\\libopenblas.WCDJNK7YVMPZQ2ME2ZZHJJRJ3JIKNDB7.gfortran-win_amd64.dll\n",
      "D:\\Anaconda3\\envs\\kimna\\lib\\site-packages\\numpy\\.libs\\libopenblas.XWYDX2IKJW2NMTWSFYNGFUWKQU3LYTCZ.gfortran-win_amd64.dll\n",
      "  stacklevel=1)\n"
     ]
    }
   ],
   "source": [
    "import os \n",
    "import cv2\n",
    "import numpy as np\n",
    "from tqdm import tqdm\n",
    "import glob\n",
    "import natsort\n",
    "import matplotlib.pyplot as plt\n",
    "import tensorflow as tf\n",
    "%matplotlib inline"
   ]
  },
  {
   "cell_type": "markdown",
   "id": "11ec426e",
   "metadata": {},
   "source": [
    "### noisy image load"
   ]
  },
  {
   "cell_type": "code",
   "execution_count": 17,
   "id": "ecf3f1d6",
   "metadata": {},
   "outputs": [],
   "source": [
    "path1 = 'D:/Jupyter/kimna/yolo (2)/2. yolo_v5/data/x_ray/images/test_REALESRGAN/'\n",
    "temp = natsort.natsorted(os.listdir(path1))"
   ]
  },
  {
   "cell_type": "code",
   "execution_count": 18,
   "id": "a5bbaf3b",
   "metadata": {},
   "outputs": [],
   "source": [
    "files = []\n",
    "for i in range(50):\n",
    "    files.append(path1 + temp[i])"
   ]
  },
  {
   "cell_type": "code",
   "execution_count": 19,
   "id": "e057058c",
   "metadata": {},
   "outputs": [
    {
     "name": "stderr",
     "output_type": "stream",
     "text": [
      "100%|██████████████████████████████████████████████████████████████████████████████████| 50/50 [00:01<00:00, 31.31it/s]\n"
     ]
    }
   ],
   "source": [
    "images1 = []\n",
    "for fl in tqdm(files):\n",
    "    try:\n",
    "        image = cv2.imread(fl, cv2.IMREAD_COLOR)\n",
    "        images1.append(image)\n",
    "    except:\n",
    "        break\n",
    "generate = np.array(images1)"
   ]
  },
  {
   "cell_type": "code",
   "execution_count": 20,
   "id": "dee88359",
   "metadata": {},
   "outputs": [
    {
     "data": {
      "text/plain": [
       "(1080, 1920, 3)"
      ]
     },
     "execution_count": 20,
     "metadata": {},
     "output_type": "execute_result"
    }
   ],
   "source": [
    "images1[1].shape"
   ]
  },
  {
   "cell_type": "markdown",
   "id": "ca8c319d",
   "metadata": {},
   "source": [
    "### clean image load"
   ]
  },
  {
   "cell_type": "code",
   "execution_count": 6,
   "id": "eec6c8c8",
   "metadata": {},
   "outputs": [],
   "source": [
    "path2 = 'D:/Jupyter/kimna/yolo (2)/2. yolo_v5/data/x_ray/images/test_orginal_500/'\n",
    "temp2 = natsort.natsorted(os.listdir(path2))"
   ]
  },
  {
   "cell_type": "code",
   "execution_count": 7,
   "id": "e4c83832",
   "metadata": {},
   "outputs": [],
   "source": [
    "files_2 = []\n",
    "for i in range(50):\n",
    "    files_2.append(path2 + temp2[i])"
   ]
  },
  {
   "cell_type": "code",
   "execution_count": 8,
   "id": "c8251c46",
   "metadata": {},
   "outputs": [
    {
     "name": "stderr",
     "output_type": "stream",
     "text": [
      "100%|██████████████████████████████████████████████████████████████████████████████████| 50/50 [00:02<00:00, 20.82it/s]\n"
     ]
    }
   ],
   "source": [
    "images = []\n",
    "for fl in tqdm(files_2):\n",
    "    try:\n",
    "        image = cv2.imread(fl, cv2.IMREAD_COLOR)\n",
    "        images.append(image)\n",
    "    except:\n",
    "        break\n",
    "clean = np.array(images)"
   ]
  },
  {
   "cell_type": "code",
   "execution_count": 9,
   "id": "27f54dab",
   "metadata": {},
   "outputs": [
    {
     "data": {
      "text/plain": [
       "(1080, 1920, 3)"
      ]
     },
     "execution_count": 9,
     "metadata": {},
     "output_type": "execute_result"
    }
   ],
   "source": [
    "images[1].shape"
   ]
  },
  {
   "cell_type": "code",
   "execution_count": null,
   "id": "1b312129",
   "metadata": {},
   "outputs": [],
   "source": [
    "for i in range(0,len(clean)):\n",
    "    \n",
    "    fig=plt.figure(figsize=(15, 5))\n",
    "    \n",
    "    ax = plt.subplot(131)\n",
    "    plt.imshow(clean[i])\n",
    "    \n",
    "    ax = plt.subplot(132)\n",
    "    plt.imshow(generate[i])\n",
    "    plt.show()"
   ]
  },
  {
   "cell_type": "code",
   "execution_count": 10,
   "id": "7593b03d",
   "metadata": {
    "scrolled": true
   },
   "outputs": [],
   "source": [
    "y_true_list = []\n",
    "for i in range(50):\n",
    "    y_true = tf.image.convert_image_dtype(clean[i], tf.float32)\n",
    "    y_true_list.append(y_true)"
   ]
  },
  {
   "cell_type": "code",
   "execution_count": 11,
   "id": "61f0dc34",
   "metadata": {},
   "outputs": [],
   "source": [
    "y_pred_list2 = []\n",
    "for i in range(50):\n",
    "    y_pred = tf.image.convert_image_dtype(generate[i], tf.float32)\n",
    "    y_pred_list2.append(y_pred)"
   ]
  },
  {
   "cell_type": "markdown",
   "id": "817f281c",
   "metadata": {},
   "source": [
    "## PSNR"
   ]
  },
  {
   "cell_type": "code",
   "execution_count": 21,
   "id": "34e675c1",
   "metadata": {},
   "outputs": [],
   "source": [
    "y_pred_list = []\n",
    "for i in range(50):\n",
    "    y_pred = tf.image.convert_image_dtype(generate[i], tf.float32)\n",
    "    y_pred_list.append(y_pred)"
   ]
  },
  {
   "cell_type": "code",
   "execution_count": 22,
   "id": "258a242d",
   "metadata": {
    "scrolled": true
   },
   "outputs": [],
   "source": [
    "#PSNR\n",
    "psnr_list = []\n",
    "for i in range(50):\n",
    "    try:\n",
    "        psnr_ouput = tf.image.psnr(y_true_list[i], y_pred_list[i], max_val=1.0)\n",
    "        psnr_list.append(psnr_ouput)\n",
    "    except:\n",
    "        break"
   ]
  },
  {
   "cell_type": "code",
   "execution_count": 23,
   "id": "ad3e458e",
   "metadata": {
    "scrolled": true
   },
   "outputs": [
    {
     "data": {
      "text/plain": [
       "50"
      ]
     },
     "execution_count": 23,
     "metadata": {},
     "output_type": "execute_result"
    }
   ],
   "source": [
    "len(psnr_list)"
   ]
  },
  {
   "cell_type": "code",
   "execution_count": 24,
   "id": "95c3cb2a",
   "metadata": {},
   "outputs": [],
   "source": [
    "psnr_list = np.array(psnr_list)"
   ]
  },
  {
   "cell_type": "code",
   "execution_count": 25,
   "id": "0d3cff87",
   "metadata": {},
   "outputs": [
    {
     "data": {
      "text/plain": [
       "numpy.ndarray"
      ]
     },
     "execution_count": 25,
     "metadata": {},
     "output_type": "execute_result"
    }
   ],
   "source": [
    "type(psnr_list)"
   ]
  },
  {
   "cell_type": "code",
   "execution_count": 26,
   "id": "52e32dc4",
   "metadata": {},
   "outputs": [],
   "source": [
    "filePath = 'D:/Jupyter/kimna/5. project1/RESRGAN_PSNR.txt'\n",
    "\n",
    "with open(filePath, 'w') as lf:\n",
    "    for i in range(len(psnr_list)):\n",
    "        lf.write(str(psnr_list[i]))\n",
    "        lf.write('\\n')"
   ]
  },
  {
   "cell_type": "markdown",
   "id": "045a252f",
   "metadata": {},
   "source": [
    "# SSIM"
   ]
  },
  {
   "cell_type": "code",
   "execution_count": 27,
   "id": "a7efb62c",
   "metadata": {},
   "outputs": [],
   "source": [
    "#SSIM\n",
    "ssim_list = []\n",
    "for i in range(len(y_true_list)):\n",
    "    ssim_ouput = tf.image.ssim(y_true_list[i], y_pred_list[i], max_val=1.0)\n",
    "    ssim_list.append(ssim_ouput)"
   ]
  },
  {
   "cell_type": "code",
   "execution_count": 28,
   "id": "26fd49f2",
   "metadata": {},
   "outputs": [],
   "source": [
    "ssim_list = np.array(ssim_list)"
   ]
  },
  {
   "cell_type": "code",
   "execution_count": 29,
   "id": "1800db0b",
   "metadata": {},
   "outputs": [],
   "source": [
    "#SSIM\n",
    "filePath = 'D:/Jupyter/kimna/5. project1/RESRGAN_SSIM.txt'\n",
    "\n",
    "with open(filePath, 'w') as lf:\n",
    "    for i in range(len(ssim_list)):\n",
    "        lf.write(str(ssim_list[i]))\n",
    "        lf.write('\\n')"
   ]
  },
  {
   "cell_type": "markdown",
   "id": "d6637c45",
   "metadata": {},
   "source": [
    "### 평가"
   ]
  },
  {
   "cell_type": "code",
   "execution_count": null,
   "id": "b4649511",
   "metadata": {},
   "outputs": [],
   "source": [
    "clean = clean*255\n",
    "generate = generate*255\n",
    "\n",
    "#ref_mat=patch\n",
    "#res_mat=mask\n",
    "#print(ref_mat.shape)\n",
    "#print(res_mat.shape)"
   ]
  },
  {
   "cell_type": "code",
   "execution_count": null,
   "id": "40469792",
   "metadata": {
    "scrolled": true
   },
   "outputs": [],
   "source": [
    "def output_psnr_mse(img_orig, img_out):\n",
    "    squared_error = np.square(img_orig - img_out)\n",
    "    mse = np.mean(squared_error)\n",
    "    psnr = 10 * np.log10(1.0 / mse)\n",
    "    return psnr"
   ]
  },
  {
   "cell_type": "code",
   "execution_count": null,
   "id": "9230da42",
   "metadata": {},
   "outputs": [],
   "source": [
    "psnr_output = []\n",
    "for i in range(len(clean)):\n",
    "    output = output_psnr_mse(clean[i], generate[i])\n",
    "    psnr_output.append(output)"
   ]
  },
  {
   "cell_type": "code",
   "execution_count": null,
   "id": "f38f47d8",
   "metadata": {},
   "outputs": [],
   "source": [
    "psnr_output"
   ]
  },
  {
   "cell_type": "code",
   "execution_count": null,
   "id": "09d53194",
   "metadata": {},
   "outputs": [],
   "source": [
    "ref_mat = ref_mat.astype('float') / 255.0\n",
    "res_mat = res_mat.astype('float') / 255.0\n",
    "\n",
    "def mean_psnr_srgb(ref_mat, res_mat):\n",
    "    n_blk, h, w, c = ref_mat.shape\n",
    "    mean_psnr = 0\n",
    "    for b in range(n_blk):\n",
    "        ref_block = ref_mat[b, :, :, :]\n",
    "        res_block = res_mat[b, :, :, :]\n",
    "        ref_block = np.reshape(ref_block, (h, w, c))\n",
    "        res_block = np.reshape(res_block, (h, w, c))\n",
    "        psnr = output_psnr_mse(ref_block, res_block)\n",
    "        mean_psnr += psnr\n",
    "    return mean_psnr / n_blk\n",
    "\n",
    "#PSNR\n",
    "mean_psnr = mean_psnr_srgb(ref_mat, res_mat)\n",
    "print('mean_psnr:')\n",
    "print(mean_psnr)"
   ]
  },
  {
   "cell_type": "code",
   "execution_count": null,
   "id": "ae4794ef",
   "metadata": {},
   "outputs": [],
   "source": [
    "from skimage.metrics import structural_similarity as ssim\n",
    "\n",
    "def mean_ssim_srgb(ref_mat, res_mat):\n",
    "    n_blk, h, w, c = ref_mat.shape\n",
    "    mean_ssim = 0\n",
    "    for b in range(n_blk):\n",
    "        ref_block = ref_mat[b, :, :, :]\n",
    "        res_block = res_mat[b, :, :, :]\n",
    "        ref_block = np.reshape(ref_block, (h, w, c))\n",
    "        res_block = np.reshape(res_block, (h, w, c))\n",
    "        ssim1 = ssim(ref_block, res_block, gaussian_weights=True, use_sample_covariance=False,\n",
    "                     multichannel=True)\n",
    "        mean_ssim += ssim1\n",
    "    return mean_ssim / n_blk\n",
    "\n",
    "# SSIM\n",
    "mean_ssim = mean_ssim_srgb(ref_mat, res_mat)\n",
    "print('mean_ssim:')\n",
    "print(mean_ssim)"
   ]
  },
  {
   "cell_type": "code",
   "execution_count": null,
   "id": "7cbceefe",
   "metadata": {},
   "outputs": [],
   "source": []
  },
  {
   "cell_type": "code",
   "execution_count": null,
   "id": "edb909bc",
   "metadata": {},
   "outputs": [],
   "source": [
    "import shutil"
   ]
  },
  {
   "cell_type": "markdown",
   "id": "418b412e",
   "metadata": {},
   "source": [
    "### Haze"
   ]
  },
  {
   "cell_type": "code",
   "execution_count": null,
   "id": "1936eea6",
   "metadata": {},
   "outputs": [],
   "source": [
    "HAZE_BEST_LIST = []\n",
    "\n",
    "HAZE_BEST_LIST_path = 'D:/Jupyter/Nahyoun/1. denoise/data/2. inference/HAZE_BEST_SSIM.txt'\n",
    "\n",
    "f = open(HAZE_BEST_LIST_path, 'r')\n",
    "for i in range(704):\n",
    "    line = f.readline()\n",
    "    HAZE_BEST_LIST.append(line.replace(\"\\n\",\"\"))"
   ]
  },
  {
   "cell_type": "code",
   "execution_count": null,
   "id": "beaf4a7f",
   "metadata": {},
   "outputs": [],
   "source": [
    "from_path = 'D:/Jupyter/Nahyoun/1. denoise/data/2. inference/3. inference_denosie/14. inference_denoise_haze_l/'\n",
    "to_path = 'D:/Jupyter/Nahyoun/1. denoise/data/2. inference/3. inference_denosie/21. best_haze_ssim/'"
   ]
  },
  {
   "cell_type": "code",
   "execution_count": null,
   "id": "6289065d",
   "metadata": {},
   "outputs": [],
   "source": [
    "for i in range(704):\n",
    "    num = HAZE_BEST_LIST[i]\n",
    "    from_image_path = from_path+num+'.jpg'\n",
    "    to_image_path = to_path+num+'.jpg'\n",
    "    shutil.copyfile(from_image_path, to_image_path)"
   ]
  },
  {
   "cell_type": "markdown",
   "id": "51a4be23",
   "metadata": {},
   "source": [
    "### Light"
   ]
  },
  {
   "cell_type": "code",
   "execution_count": null,
   "id": "0d22cc9a",
   "metadata": {},
   "outputs": [],
   "source": [
    "LIGHT_BEST_LIST = []\n",
    "\n",
    "LIGHT_BEST_PATH = 'D:/Jupyter/Nahyoun/1. denoise/data/2. inference/LIGHT_BEST_SSIM.txt'\n",
    "\n",
    "f = open(LIGHT_BEST_PATH, 'r')\n",
    "for i in range(371):\n",
    "    line = f.readline()\n",
    "    LIGHT_BEST_LIST.append(line.replace(\"\\n\",\"\"))"
   ]
  },
  {
   "cell_type": "code",
   "execution_count": null,
   "id": "439b2154",
   "metadata": {},
   "outputs": [],
   "source": [
    "LIGHT_BEST_LIST[0]"
   ]
  },
  {
   "cell_type": "code",
   "execution_count": null,
   "id": "3e1f1984",
   "metadata": {
    "scrolled": true
   },
   "outputs": [],
   "source": [
    "len(LIGHT_BEST_LIST)"
   ]
  },
  {
   "cell_type": "code",
   "execution_count": null,
   "id": "cd8a82cc",
   "metadata": {},
   "outputs": [],
   "source": [
    "from_path = 'D:/Jupyter/Nahyoun/1. denoise/data/2. inference/3. inference_denosie/15. inference_denoise_light_l/'\n",
    "to_path = 'D:/Jupyter/Nahyoun/1. denoise/data/2. inference/3. inference_denosie/22. best_light_ssim/'\n",
    "    \n",
    "for i in range(371):\n",
    "    num = LIGHT_BEST_LIST[i]\n",
    "    from_image_path = from_path+num+'.jpg'\n",
    "    to_image_path = to_path+num+'.jpg'\n",
    "    shutil.copyfile(from_image_path, to_image_path)"
   ]
  },
  {
   "cell_type": "markdown",
   "id": "11ab70cc",
   "metadata": {},
   "source": [
    "### dark"
   ]
  },
  {
   "cell_type": "code",
   "execution_count": null,
   "id": "1801daec",
   "metadata": {},
   "outputs": [],
   "source": [
    "DARK_BEST_LIST = []\n",
    "\n",
    "DARK_BEST_PATH = 'D:/Jupyter/Nahyoun/1. denoise/data/2. inference/DARK_BEST_SSIM.txt'\n",
    "\n",
    "f = open(DARK_BEST_PATH, 'r')\n",
    "for i in range(114):\n",
    "    line = f.readline()\n",
    "    DARK_BEST_LIST.append(line.replace(\"\\n\",\"\"))"
   ]
  },
  {
   "cell_type": "code",
   "execution_count": null,
   "id": "d38ae01d",
   "metadata": {},
   "outputs": [],
   "source": [
    "from_path = 'D:/Jupyter/Nahyoun/1. denoise/data/2. inference/3. inference_denosie/13. inference_denoise_dark_l/'\n",
    "to_path = 'D:/Jupyter/Nahyoun/1. denoise/data/2. inference/3. inference_denosie/20. best_dark_ssim/'\n",
    "    \n",
    "for i in range(114):\n",
    "    num = DARK_BEST_LIST[i]\n",
    "    from_image_path = from_path+num+'.jpg'\n",
    "    to_image_path = to_path+num+'.jpg'\n",
    "    shutil.copyfile(from_image_path, to_image_path)"
   ]
  },
  {
   "cell_type": "code",
   "execution_count": null,
   "id": "4f4b21b0",
   "metadata": {},
   "outputs": [],
   "source": [
    "import shutil"
   ]
  },
  {
   "cell_type": "code",
   "execution_count": null,
   "id": "06f4a1d0",
   "metadata": {},
   "outputs": [],
   "source": []
  },
  {
   "cell_type": "code",
   "execution_count": null,
   "id": "3d2b8e21",
   "metadata": {},
   "outputs": [],
   "source": []
  },
  {
   "cell_type": "code",
   "execution_count": null,
   "id": "5b2a35bc",
   "metadata": {},
   "outputs": [],
   "source": []
  },
  {
   "cell_type": "code",
   "execution_count": null,
   "id": "090a2a37",
   "metadata": {},
   "outputs": [],
   "source": [
    "import math\n",
    "import numpy\n",
    "import numpy.linalg\n",
    "from scipy.special import gamma\n",
    "from scipy.ndimage.filters import gaussian_filter\n",
    "import scipy.misc\n",
    "import scipy.io\n",
    "import skimage.transform\n",
    "\n",
    "\"\"\"\n",
    "Generalized Gaussian distribution estimation.\n",
    "Cite: \n",
    "Dominguez-Molina, J. Armando, et al. \"A practical procedure to estimate the shape parameter in the generalized Gaussian distribution.\", \n",
    "  available through http://www. cimat. mx/reportes/enlinea/I-01-18_eng. pdf 1 (2001).\n",
    "\"\"\"\n",
    "\n",
    "\"\"\"\n",
    "Generalized Gaussian ratio function\n",
    "Cite: Dominguez-Molina 2001, pg 7, eq (8)\n",
    "\"\"\"\n",
    "def generalized_gaussian_ratio(alpha):\n",
    "    return (gamma(2.0/alpha)**2) / (gamma(1.0/alpha) * gamma(3.0/alpha))\n",
    "\n",
    "\n",
    "\"\"\"\n",
    "Generalized Gaussian ratio function inverse (numerical approximation)\n",
    "Cite: Dominguez-Molina 2001, pg 13\n",
    "\"\"\"\n",
    "def generalized_gaussian_ratio_inverse(k):\n",
    "    a1 = -0.535707356\n",
    "    a2 = 1.168939911\n",
    "    a3 = -0.1516189217\n",
    "    b1 = 0.9694429\n",
    "    b2 = 0.8727534\n",
    "    b3 = 0.07350824\n",
    "    c1 = 0.3655157\n",
    "    c2 = 0.6723532\n",
    "    c3 = 0.033834\n",
    "\n",
    "    if k < 0.131246:\n",
    "        return 2 * math.log(27.0/16.0) / math.log(3.0/(4*k**2))\n",
    "    elif k < 0.448994:\n",
    "        return (1/(2 * a1)) * (-a2 + math.sqrt(a2**2 - 4*a1*a3 + 4*a1*k))\n",
    "    elif k < 0.671256:\n",
    "        return (1/(2*b3*k)) * (b1 - b2*k - math.sqrt((b1 - b2*k)**2 - 4*b3*(k**2)))\n",
    "    elif k < 0.75:\n",
    "        #print \"%f %f %f\" % (k, ((3-4*k)/(4*c1)), c2**2 + 4*c3*log((3-4*k)/(4*c1)) )\n",
    "        return (1/(2*c3)) * (c2 - math.sqrt(c2**2 + 4*c3*math.log((3-4*k)/(4*c1))))\n",
    "\n",
    "\"\"\"\n",
    "Estimate the parameters of an asymmetric generalized Gaussian distribution\n",
    "\"\"\"\n",
    "def estimate_aggd_params(x):\n",
    "    x_left = x[x < 0]\n",
    "    x_right = x[x >= 0]\n",
    "    stddev_left = math.sqrt((1.0/(x_left.size - 1)) * numpy.sum(x_left ** 2))\n",
    "    stddev_right = math.sqrt((1.0/(x_right.size - 1)) * numpy.sum(x_right ** 2))\n",
    "    if stddev_right == 0:\n",
    "        return 1, 0, 0 # TODO check this\n",
    "    r_hat = numpy.mean(numpy.abs(x))**2 / numpy.mean(x**2)\n",
    "    y_hat = stddev_left / stddev_right\n",
    "    R_hat = r_hat * (y_hat**3 + 1) * (y_hat + 1) / ((y_hat**2 + 1) ** 2)\n",
    "    alpha = generalized_gaussian_ratio_inverse(R_hat)\n",
    "    beta_left = stddev_left * math.sqrt(gamma(3.0/alpha) / gamma(1.0/alpha))\n",
    "    beta_right = stddev_right * math.sqrt(gamma(3.0/alpha) / gamma(1.0/alpha))\n",
    "    return alpha, beta_left, beta_right\n",
    "\n",
    "def compute_features(img_norm):\n",
    "    features = []\n",
    "    alpha, beta_left, beta_right = estimate_aggd_params(img_norm)\n",
    "\n",
    "    features.extend([ alpha, (beta_left+beta_right)/2 ])\n",
    "\n",
    "    for x_shift, y_shift in ((0,1), (1,0), (1,1), (1,-1)):\n",
    "        img_pair_products  = img_norm * numpy.roll(numpy.roll(img_norm, y_shift, axis=0), x_shift, axis=1)\n",
    "        alpha, beta_left, beta_right = estimate_aggd_params(img_pair_products)\n",
    "        eta = (beta_right - beta_left) * (gamma(2.0/alpha) / gamma(1.0/alpha))\n",
    "        features.extend([ alpha, eta, beta_left, beta_right ])\n",
    "\n",
    "    return features\n",
    "\n",
    "def normalize_image(img, sigma=7/6):\n",
    "    mu  = gaussian_filter(img, sigma, mode='nearest')\n",
    "    mu_sq = mu * mu\n",
    "    sigma = numpy.sqrt(numpy.abs(gaussian_filter(img * img, sigma, mode='nearest') - mu_sq))\n",
    "    img_norm = (img - mu) / (sigma + 1)\n",
    "    return img_norm\n",
    "\n",
    "\n",
    "def niqe(img):\n",
    "    model_mat = scipy.io.loadmat('modelparameters.mat')\n",
    "    model_mu = model_mat['mu_prisparam']\n",
    "    model_cov = model_mat['cov_prisparam']\n",
    "\n",
    "    features = None\n",
    "    img_scaled = img\n",
    "    for scale in [1,2]:\n",
    "\n",
    "        if scale != 1:\n",
    "            img_scaled = skimage.transform.rescale(img, 1/scale)\n",
    "            #img_scaled = scipy.misc.imresize(img_norm, 0.5)\n",
    "\n",
    "        # print img_scaled\n",
    "        img_norm = normalize_image(img_scaled)\n",
    "\n",
    "        scale_features = []\n",
    "        block_size = 96//scale\n",
    "        for block_col in range(img_norm.shape[0]//block_size):\n",
    "            for block_row in range(img_norm.shape[1]//block_size):\n",
    "                block_features = compute_features( img_norm[block_col*block_size:(block_col+1)*block_size, block_row*block_size:(block_row+1)*block_size] )\n",
    "                scale_features.append(block_features)\n",
    "        # print \"len(scale_features)=%f\" %(len(scale_features))\n",
    "        if features == None:\n",
    "            features = numpy.vstack(scale_features)\n",
    "            # print features.shape\n",
    "        else:\n",
    "            features = numpy.hstack([features, numpy.vstack(scale_features)])\n",
    "            # print features.shape\n",
    "        \n",
    "    features_mu = numpy.mean(features, axis=0)\n",
    "    features_cov = numpy.cov(features.T)\n",
    "\n",
    "    pseudoinv_of_avg_cov  = numpy.linalg.pinv((model_cov + features_cov)/2)\n",
    "    niqe_quality = math.sqrt( (model_mu - features_mu).dot( pseudoinv_of_avg_cov.dot( (model_mu - features_mu).T ) ) )\n",
    "\n",
    "    return niqe_quality"
   ]
  },
  {
   "cell_type": "code",
   "execution_count": null,
   "id": "c56662b9",
   "metadata": {},
   "outputs": [],
   "source": [
    "run -i niqe.py"
   ]
  },
  {
   "cell_type": "code",
   "execution_count": null,
   "id": "5703b679",
   "metadata": {
    "scrolled": true
   },
   "outputs": [],
   "source": [
    "niqe(y_pred_list[1])"
   ]
  },
  {
   "cell_type": "code",
   "execution_count": null,
   "id": "5a1ee02b",
   "metadata": {},
   "outputs": [],
   "source": []
  }
 ],
 "metadata": {
  "kernelspec": {
   "display_name": "Python 3 (ipykernel)",
   "language": "python",
   "name": "python3"
  },
  "language_info": {
   "codemirror_mode": {
    "name": "ipython",
    "version": 3
   },
   "file_extension": ".py",
   "mimetype": "text/x-python",
   "name": "python",
   "nbconvert_exporter": "python",
   "pygments_lexer": "ipython3",
   "version": "3.7.10"
  }
 },
 "nbformat": 4,
 "nbformat_minor": 5
}
